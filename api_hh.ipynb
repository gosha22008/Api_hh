{
  "nbformat": 4,
  "nbformat_minor": 0,
  "metadata": {
    "colab": {
      "provenance": []
    },
    "kernelspec": {
      "name": "python3",
      "display_name": "Python 3"
    },
    "language_info": {
      "name": "python"
    }
  },
  "cells": [
    {
      "cell_type": "code",
      "execution_count": null,
      "metadata": {
        "id": "XpIJDXNGiIAC"
      },
      "outputs": [],
      "source": [
        "import pandas as pd\n",
        "import requests\n",
        "from pprint import pprint\n",
        "import time"
      ]
    },
    {
      "cell_type": "code",
      "source": [
        "per_page = \"50\"\n",
        "job_text = \"Data Science\"\n",
        "params = {\"text\": job_text, \"per_page\": per_page}\n",
        "res = requests.get('https://api.hh.ru/vacancies/', params=params )\n",
        "print(res)"
      ],
      "metadata": {
        "colab": {
          "base_uri": "https://localhost:8080/"
        },
        "id": "puE24IrriUGv",
        "outputId": "e5f4514e-87fd-424e-a8aa-158840c44a8e"
      },
      "execution_count": null,
      "outputs": [
        {
          "output_type": "stream",
          "name": "stdout",
          "text": [
            "<Response [200]>\n"
          ]
        }
      ]
    },
    {
      "cell_type": "code",
      "source": [
        "res_json = res.json()\n",
        "# res_content = res.content()\n",
        "# res_text = res.text()\n",
        "len(res_json)"
      ],
      "metadata": {
        "id": "vIer-pn9is4s",
        "colab": {
          "base_uri": "https://localhost:8080/"
        },
        "outputId": "7731d3c3-2bf5-42e2-b60f-f296362569e5"
      },
      "execution_count": null,
      "outputs": [
        {
          "output_type": "execute_result",
          "data": {
            "text/plain": [
              "8"
            ]
          },
          "metadata": {},
          "execution_count": 4
        }
      ]
    },
    {
      "cell_type": "code",
      "source": [
        "pprint(res_json)"
      ],
      "metadata": {
        "id": "kfmNn2N9zpjh"
      },
      "execution_count": null,
      "outputs": []
    },
    {
      "cell_type": "code",
      "source": [
        "page = res_json['page']\n",
        "pages = res_json['pages']\n",
        "per_page = res_json['per_page']\n",
        "found = res_json['found']"
      ],
      "metadata": {
        "id": "hn9Eir842IKK"
      },
      "execution_count": null,
      "outputs": []
    },
    {
      "cell_type": "code",
      "source": [
        "page"
      ],
      "metadata": {
        "id": "jD41IeSy4QsS",
        "colab": {
          "base_uri": "https://localhost:8080/"
        },
        "outputId": "425a7671-3432-49f7-b232-182b1cdb1d65"
      },
      "execution_count": null,
      "outputs": [
        {
          "output_type": "execute_result",
          "data": {
            "text/plain": [
              "0"
            ]
          },
          "metadata": {},
          "execution_count": 7
        }
      ]
    },
    {
      "cell_type": "code",
      "source": [
        "list_id = []\n",
        "list_url = []\n",
        "list_name = []\n",
        "\n",
        "for i in range(page, pages+1):\n",
        "  params = {\"text\": \"Data Science\", \"per_page\": \"50\", \"page\": f\"{i}\"}\n",
        "  response = requests.get('https://api.hh.ru/vacancies/', params=params )\n",
        "  response = response.json()\n",
        "  time.sleep(0.5)\n",
        "  for ii in response['items']:\n",
        "    list_id.append(ii[\"id\"])\n",
        "    list_url.append(ii[\"url\"])\n",
        "    list_name.append(ii[\"name\"])\n",
        "\n"
      ],
      "metadata": {
        "id": "1_pWPTxm0CyM"
      },
      "execution_count": null,
      "outputs": []
    },
    {
      "cell_type": "code",
      "source": [
        "# print(list_id)\n",
        "# print(len(list_url))\n",
        "# print(list_name)\n"
      ],
      "metadata": {
        "id": "mvNBn5Ma3FsW"
      },
      "execution_count": null,
      "outputs": []
    },
    {
      "cell_type": "code",
      "source": [
        "response = requests.get(list_url[2]).json()\n",
        "pprint(response)\n",
        "# 'experience'\n",
        "# 'key_skills'\n",
        "# 'salary'\n",
        "# 'alternate_url'\n",
        "# 'area'\n",
        "# 'employer'\n",
        "#"
      ],
      "metadata": {
        "id": "sVCp8UdUB9kp"
      },
      "execution_count": null,
      "outputs": []
    },
    {
      "cell_type": "code",
      "source": [
        "print(list_url[0])"
      ],
      "metadata": {
        "colab": {
          "base_uri": "https://localhost:8080/"
        },
        "id": "3McZ6zt3CLWc",
        "outputId": "d03cb717-1cee-4796-fc61-0eb36e13d97b"
      },
      "execution_count": null,
      "outputs": [
        {
          "output_type": "stream",
          "name": "stdout",
          "text": [
            "https://api.hh.ru/vacancies/77874929?host=hh.ru\n"
          ]
        }
      ]
    },
    {
      "cell_type": "code",
      "source": [
        "# Вакансии Data Science только по Москве\n",
        "# params = {\"text\": \"Data Science\", \"per_page\": \"50\", \"area\": \"1\"}\n",
        "# res_mos = requests.get('https://api.hh.ru/vacancies/', params=params )\n",
        "# if response == \"<Response [200]>\":\n",
        "#   print(200)\n",
        "# print(res_mos.status_code)"
      ],
      "metadata": {
        "id": "p_LQErfFDTmx"
      },
      "execution_count": null,
      "outputs": []
    },
    {
      "cell_type": "code",
      "source": [
        "import numpy as np\n",
        "ind = 0\n",
        "df_job = pd.DataFrame(columns = (['name',\n",
        "                                  'experience',\n",
        "                                  'key_skills',\n",
        "                                  'salary',\n",
        "                                  'alternate_url',\n",
        "                                  'area',\n",
        "                                  'employer',\n",
        "                                  'professional_roles',\n",
        "                                  'published_at',\n",
        "                                  'description',\n",
        "                                  'schedule',\n",
        "                                  'employment']))\n",
        "\n",
        "for item in list_url:\n",
        "  response = requests.get(item)\n",
        "  if response.status_code == 200:\n",
        "    response = response.json()\n",
        "    df_job.loc[ind] = {'name': response['name'],\n",
        "                      'experience': response['experience']['name'],\n",
        "                      'key_skills': [n['name'] for n in response['key_skills']],\n",
        "                      'salary': response['salary'],\n",
        "                      'alternate_url': response['alternate_url'],\n",
        "                      'area': response['area']['name'],\n",
        "                      'employer': response['employer']['name'],\n",
        "                      'professional_roles': response['professional_roles'][0]['name'],\n",
        "                      'published_at': response['published_at'],\n",
        "                      'description': response['description'],\n",
        "                      'schedule': response['schedule']['name'],\n",
        "                      'employment': response['employment']['name']}\n",
        "    ind += 1\n",
        "    # time.sleep(0.2)\n",
        "  else:\n",
        "    print('Что-то пошло не так')\n"
      ],
      "metadata": {
        "id": "q708Y6Z8Wkj_"
      },
      "execution_count": null,
      "outputs": []
    },
    {
      "cell_type": "code",
      "source": [
        "# df_job.to_csv('jobs.csv', encoding = \"utf-8-sig\")\n",
        "df_job_copy = df_job.copy(deep=True)\n",
        "df_job_copy.info()"
      ],
      "metadata": {
        "id": "wYK6KmMpx1yP"
      },
      "execution_count": null,
      "outputs": []
    },
    {
      "cell_type": "code",
      "source": [
        "def make_clickable(val):\n",
        "    return f'<a target=\"_blank\" href=\"{val}\">{val}</a>'\n",
        "\n",
        "df_job_style = df_job.style.format({'alternate_url': make_clickable})"
      ],
      "metadata": {
        "id": "T8-VmxFWJDk8"
      },
      "execution_count": null,
      "outputs": []
    },
    {
      "cell_type": "code",
      "source": [
        "df_job_style"
      ],
      "metadata": {
        "id": "otEMxRa1JDhi"
      },
      "execution_count": null,
      "outputs": []
    },
    {
      "cell_type": "code",
      "source": [
        "df_job['experience'].value_counts()"
      ],
      "metadata": {
        "colab": {
          "base_uri": "https://localhost:8080/"
        },
        "id": "MIU9JSY7JDbL",
        "outputId": "65c37f5c-e7f5-443b-aa11-7ac4c8f6bdb4"
      },
      "execution_count": null,
      "outputs": [
        {
          "output_type": "execute_result",
          "data": {
            "text/plain": [
              "От 3 до 6 лет         394\n",
              "От 1 года до 3 лет    333\n",
              "Более 6 лет            89\n",
              "Нет опыта              69\n",
              "Name: experience, dtype: int64"
            ]
          },
          "metadata": {},
          "execution_count": 17
        }
      ]
    },
    {
      "cell_type": "code",
      "source": [
        "df_job_to_me = df_job[(df_job['experience'] == 'Нет опыта') & (df_job['area'] == 'Москва')]\n",
        "df_job_to_me"
      ],
      "metadata": {
        "id": "SgdNkolOFVF_"
      },
      "execution_count": null,
      "outputs": []
    },
    {
      "cell_type": "code",
      "source": [],
      "metadata": {
        "id": "WfYR6DjFDxXE"
      },
      "execution_count": null,
      "outputs": []
    },
    {
      "cell_type": "code",
      "source": [],
      "metadata": {
        "id": "dhLZl3GyEB06"
      },
      "execution_count": null,
      "outputs": []
    }
  ]
}